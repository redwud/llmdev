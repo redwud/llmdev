{
 "cells": [
  {
   "cell_type": "code",
   "execution_count": 3,
   "id": "5e848175",
   "metadata": {},
   "outputs": [],
   "source": [
    "# 必要なモジュールをインポート\n",
    "import os\n",
    "import json\n",
    "from dotenv import load_dotenv\n",
    "from openai import OpenAI\n",
    "from openai.types.chat import ChatCompletionToolParam\n",
    "from tavily import TavilyClient\n",
    "\n",
    "# 環境変数の取得\n",
    "load_dotenv(\"../.env\")\n",
    "\n",
    "# OpenAI APIクライアントを生成\n",
    "client = OpenAI(api_key=os.environ['API_KEY'])\n",
    "\n",
    "# tavily検索用APIキーの取得\n",
    "TAVILY_API_KEY = os.environ['TAVILY_API_KEY']\n",
    "\n",
    "# モデル名\n",
    "MODEL_NAME = \"gpt-4o-mini\""
   ]
  },
  {
   "cell_type": "code",
   "execution_count": 4,
   "id": "e8242d22",
   "metadata": {},
   "outputs": [],
   "source": [
    "# 検索結果を返す関数の作成\n",
    "def get_search_result(question):\n",
    "    client = TavilyClient(api_key=TAVILY_API_KEY)\n",
    "    response = client.search(question)\n",
    "    return json.dumps({\"result\": response[\"results\"]})"
   ]
  },
  {
   "cell_type": "code",
   "execution_count": 5,
   "id": "f091ad9c",
   "metadata": {},
   "outputs": [
    {
     "data": {
      "text/plain": [
       "{'result': [{'url': 'https://ekitan.com/event/station-2590',\n",
       "   'title': '東京駅周辺のイベント - 駅探',\n",
       "   'content': '1. 駅探 2. 東京駅の時刻表・乗り換え 3. # 東京駅周辺のイベント ## 東京駅のイベント一覧 **1〜10件**／80件（新着順） * #### 親子の安心を高める子育て講座～心理学を活かして～ 子どもとのアタッチメントを学ぶ 期間2025年10月20日(月) 会場甲南大学ネットワークキャンパス東京 + 東京都 千代田区 + 東京駅／大手町駅(東京)／三越前駅 1. 無料 2. 屋内 * #### 京都アカデミアフォーラムin丸の内共催「京都新聞講座in東京『京都あれこれ』」 新たな「鬼平犯科帳」ができるまで 期間2025年9月8日(月) 会場京都大学東京オフィス\\u3000会議室AB + 東京都 千代田区 + 東京駅／二重橋前駅／大手町駅(東京)駅 1. 無料 2. 屋内 * #### 丸の内ストリートマーケット by Creema 人気のクラフトイベントが6年ぶりに復活！ 期間2025年8月29日(金)～8月30日(土) 会場行幸地下通路 + 東京都 千代田区 + 二重橋前駅／東京駅／大手町駅(東京)駅 期間2025年8月1日(金)～8月24日(日) + 東京駅／二重橋前駅／大手町駅(東京)駅 期間2025年11月16日(日) + 大手町駅(東京)／竹橋駅／東京駅 期間2025年11月1日(土) + 二重橋前駅／東京駅／大手町駅(東京)駅 期間2025年10月4日(土)～10月5日(日) + 二重橋前駅／東京駅／大手町駅(東京)駅 期間2025年8月13日(水) + 東京駅／日本橋駅(東京)／大手町駅(東京)駅 期間2025年8月28日(木) + 東京駅／二重橋前駅／大手町駅(東京)駅 期間2025年8月7日(木) + 東京駅／二重橋前駅／大手町駅(東京)駅 * 京橋(東京) * 大手町(東京) * 日本橋(東京) * 東京メトロ日比谷線 八丁堀駅 徒歩2分 1K / 26.78m2 / 5階 東京メトロ日比谷線 八丁堀駅 徒歩3分 1K / 33.58m2 / 4階 / 築10年 東京メトロ有楽町線 銀座一丁目駅 徒歩2分 ワンルーム / 27.8m2 / 7階 / 築21年 * 東京メトロ日比谷線 八丁堀駅 徒歩2分 2LDK / 53.58m2 / 10階 / 築7年',\n",
       "   'score': 0.8571119,\n",
       "   'raw_content': None},\n",
       "  {'url': 'https://www.walkerplus.com/event_list/ar0313/sc309880d/',\n",
       "   'title': '東京駅(東京都)周辺のイベント - ウォーカープラス',\n",
       "   'content': '今日 明日 今週末 * エリアを選択 * 目的から探す エリア :   * 東京都 * 千代田区 * 中央区 * 港区 * 新宿区 * 文京区 * 台東区 * 墨田区 * 江東区 * 品川区 * 目黒区 * 大田区 * 世田谷区 * 渋谷区 2025年5月29日(木)～9月7日(日) * 日本橋高島屋S.C. BBQ BEER GARDEN(バーベキュービアガーデン) 2025年4月16日(水)～11月5日(水) 日本橋駅(東京都), 京橋駅(東京都), 茅場町駅(東京都), 宝町駅(東京都), 東京駅(東京都) 日本橋高島屋S.C.本館 * 丸ノ内ホテル アーバンビアテラス2025 2025年6月6日(金)～9月30日(火) 東京都 東京駅(東京都), 大手町駅(東京都), 二重橋前駅(東京都), 日本橋駅(東京都), 三越前駅(東京都) 丸ノ内ホテル 2025年6月1日(日)～8月31日(日) 東京都 東京駅(東京都), 二重橋前駅(東京都), 京橋駅(東京都), 大手町駅(東京都), 有楽町駅(東京都) 2025年8月8日(金)～2026年3月31日(火) 東京都 日比谷駅(東京都), 有楽町駅(東京都), 東京駅(東京都), 京橋駅(東京都) 2025年8月5日(火)～31日(日) 東京都 東京駅(東京都), 二重橋前駅(東京都), 有楽町駅(東京都), 京橋駅(東京都), 銀座一丁目駅(東京都) * BEER TERRACE in（marunouchi）HOUSE 2025 2025年6月20日(金)～9月21日(日) 東京都 東京駅(東京都), 二重橋前駅(東京都), 大手町駅(東京都), 有楽町駅(東京都), 京橋駅(東京都) 2025年7月5日(土)～8月31日(日) 東京都 東京駅(東京都), 二重橋前駅(東京都), 大手町駅(東京都), 日本橋駅(東京都), 京橋駅(東京都) 東京都 二重橋前駅(東京都), 有楽町駅(東京都), 東京駅(東京都), 日比谷駅(東京都) 2025年6月24日(火)～9月21日(日) 東京都 京橋駅(東京都), 宝町駅(東京都), 日本橋駅(東京都), 東京駅(東京都), 銀座一丁目駅(東京都) :   * 東京都 * ワンコとニャンコ Walker * からだにplus Walker',\n",
       "   'score': 0.7625837,\n",
       "   'raw_content': None},\n",
       "  {'url': 'https://www.jalan.net/event/130000/136200/',\n",
       "   'title': '銀座・日本橋・東京駅周辺のイベントランキング - じゃらんnet',\n",
       "   'content': '国内の観光スポット・イベント情報はじゃらんnet\\u3000～日本最大級の宿・ホテル予約サイト～ * サイトのご利用方法 * ヘルプ/問い合わせ * ログイン * 会員登録 * 予約照会・変更・キャンセル * マイページ * 旅行ガイド * 観光ガイド * ご当地グルメガイド * イベントガイド * お土産ガイド * みんなの旅行記 * エリア概要 * 観光スポット * ご当地グルメ * 宿・ホテル * イベント * お土産 エリア :   全国 :   東京 * 北海道 * 青森 * 岩手 * 宮城 * 秋田 * 山形 * 福島 * 東京 * 神奈川 * 埼玉 * 千葉 * 茨城 * 栃木 * 群馬 * 山梨 * 長野 * 新潟 * 富山 * 石川 * 福井 東海 * 愛知 * 静岡 * 岐阜 * 三重 関西 :   東京都\\u3000東京国際フォーラム\\u30001F地上広場 2マーチエキュート神田万世橋\\u3000イルミネーション :   東京都\\u3000マーチエキュート神田万世橋 久しぶりに来ました。夏にここの「へぎそば」はぴったしです。喉が鳴りました。今回は1.5人前。...by ソフトな乗り鉄タカ 62歳さん * ### 塩専門\\u3000ひるがお\\u3000東京駅店 この界隈に来ると、決まって「電光石火」の広島お好み焼きを食べていましたが、今日はたまには新...by ソフトな乗り鉄たか 59歳さん * ### 電光石火\\u3000東京駅店 調理場にはただ一人。お客さんはかなりたくさん入っているのに、世の中これ程人手不足なのかと痛...by ソフトな乗り鉄タカ 62歳さん',\n",
       "   'score': 0.7440808,\n",
       "   'raw_content': None},\n",
       "  {'url': 'https://www.enjoytokyo.jp/event/list/sta200101/its04/',\n",
       "   'title': '今日行ける！東京駅周辺のおすすめイベント',\n",
       "   'content': '英国展 日本橋三越本店 2025 【PART1】2025/08/19(火)～08/25(月) 【PART2】2025/08/27(水)～09/01(月) 2025/08/22(金) ～ 09/04(木) 伊勢丹 立川店：3/26〜4/15 伊勢丹 浦和店：6/25〜7/8 浦和伊勢丹 国際フォーラム：7/14〜7/31 日本橋三越本店：8/6〜8/19 文京グリーンコート：9/1〜9/30 丸広百貨店 川越店：10/3〜10/21 日本橋三越本店 2025/05/29(木) ～ 09/07(日) 2025/08/21(木) ～ 09/07(日) ～ 2025/08/31(日) ラブライブ！シリーズ Anniversary Parade in 東京駅一番街 ～ 2025/08/31(日) + 東京駅一番街 ～ 2025/08/31(日) 2025/08/08(金) ～ 09/15(月・祝) 2025/06/20(金) ～ 09/21(日) 2025/07/01(火) ～ 09/30(火) 2025/08/27(水) ～ 09/02(火) 2025/06/24(火) ～ 09/21(日) 休館日：月曜日（7月21日、8月11日、9月15日は開館）、7月22日、8月12日、9月16日 ～ 2025/08/31(日) ～ 2025/08/28(木) 2025/07/04(金) ～ 09/30(火) ロバート 秋山竜次 presents 10周年 クリエイターズ・ファイル 胸やけ大博覧会 in 池袋 2025/08/08(金) ～ 09/01(月) あの伝説の展覧会が7年ぶりに帰ってくる！ロバート 秋山竜次 presents「10周年 クリエイターズ・ファイル 胸やけ大博覧会」 in 池袋\\u3000開催決定！ 2025/09/16(火) ～ 11/10(月) 2025/10/18(土) ～ 10/19(日) 2025/09/01(月) ～ 09/30(火) 2025/08/29(金) ～ 08/31(日) 2025/07/18(金) ～ 09/23(火・祝) 2025/08/28(木) ～ 08/31(日) 2025/10/24(金) ～ 11/03(月・祝) 2025/07/29(火) ～ 11/30(日) ※休館日：月曜日（※月曜日が祝日の場合、翌営業日が休館） cafe and dining nurikabe Cafe&Grill SIZZLE GAZZLE Shibuya 東京都・渋谷駅 ／ 夜アフタヌーンティー nurikabe cafe SSS 渋谷店 夏のアフタヌーンティーセット+カフェフリー(6/5～9/3)',\n",
       "   'score': 0.73914057,\n",
       "   'raw_content': None},\n",
       "  {'url': 'https://www.jalan.net/kankou/spt_guide000000204974/event/',\n",
       "   'title': '東京駅丸の内駅舎周辺のイベントランキング - じゃらんnet',\n",
       "   'content': '国内の観光スポット・イベント情報はじゃらんnet\\u3000～日本最大級の宿・ホテル予約サイト～ * サイトのご利用方法 * ヘルプ/問い合わせ * ログイン * 会員登録 * 予約照会・変更・キャンセル * マイページ * 旅行ガイド * 観光ガイド * ご当地グルメガイド * イベントガイド * お土産ガイド * みんなの旅行記 （クチコミ**20**件) エリア :   * 東京×観光施設・名所巡り * 東京×その他 * 東京×歴史的建造物 * 東京×その他名所 :   * 銀座・日本橋・東京駅周辺×観光施設・名所巡り * 銀座・日本橋・東京駅周辺×その他 * 銀座・日本橋・東京駅周辺×歴史的建造物 * 銀座・日本橋・東京駅周辺×その他名所 :   千代田区 * 千代田区×観光施設・名所巡り * 千代田区×その他 * 千代田区×歴史的建造物 * 千代田区×その他名所 :   丸の内 * 丸の内×観光施設・名所巡り * 丸の内×その他 * 丸の内×歴史的建造物 * 丸の内×その他名所 ジャンル全てみる;) :   * 観光施設・名所巡り + 観光施設・名所巡り×東京 + 観光施設・名所巡り×銀座・日本橋・東京駅周辺 + 観光施設・名所巡り×千代田区 + 観光施設・名所巡り×丸の内 * 歴史的建造物 + 歴史的建造物×東京 + 歴史的建造物×銀座・日本橋・東京駅周辺 + 歴史的建造物×千代田区 * クチコミ   (20件) :   東京都\\u3000東京国際フォーラム\\u30001F地上広場 マーチエキュート神田万世橋\\u3000イルミネーション :   東京都\\u3000マーチエキュート神田万世橋 ### 塩専門\\u3000ひるがお\\u3000東京駅店 (13件) by ソフトな乗り鉄たか 59歳さん ### 電光石火\\u3000東京駅店 (30件) by ソフトな乗り鉄タカ 62歳さん (3件) (1件) (205件) (20件) (118件) クチコミ4.0以上★お客様の滞在に寄り添うサービス満載ホテル♪ (82件)',\n",
       "   'score': 0.7311551,\n",
       "   'raw_content': None}]}"
      ]
     },
     "execution_count": 5,
     "metadata": {},
     "output_type": "execute_result"
    }
   ],
   "source": [
    "# テスト用コード\n",
    "ret = get_search_result(\"東京駅のイベントを教えて\")\n",
    "json.loads(ret)"
   ]
  },
  {
   "cell_type": "code",
   "execution_count": 15,
   "id": "d6461db6",
   "metadata": {},
   "outputs": [],
   "source": [
    "# ツール定義\n",
    "def define_tools():\n",
    "    #チャットボットは通常これを表示しません\n",
    "    #print(\"------define_tools(ツール定義)------\")\n",
    "    return [\n",
    "        ChatCompletionToolParam({\n",
    "            \"type\": \"function\",\n",
    "            \"function\": {\n",
    "                \"name\": \"get_search_result\",\n",
    "                \"description\": \"最近一ヵ月のイベント開催予定などネット検索が必要な場合に、質問文の検索結果を取得する\",\n",
    "                \"parameters\": {\n",
    "                    \"type\": \"object\",\n",
    "                    \"properties\": {\n",
    "                        \"question\": {\"type\": \"string\", \"description\": \"質問文\"},\n",
    "                    },\n",
    "                    \"required\": [\"question\"],\n",
    "                },\n",
    "            },\n",
    "        })\n",
    "    ]"
   ]
  },
  {
   "cell_type": "code",
   "execution_count": 7,
   "id": "d994fceb",
   "metadata": {},
   "outputs": [],
   "source": [
    "# 言語モデルへの質問を行う関数\n",
    "def ask_question(question, tools):\n",
    "    response = client.chat.completions.create(\n",
    "        model=MODEL_NAME,\n",
    "        messages=[{\"role\": \"user\", \"content\": question}],\n",
    "        tools=tools,\n",
    "        tool_choice=\"auto\",\n",
    "    )\n",
    "    return response"
   ]
  },
  {
   "cell_type": "code",
   "execution_count": 8,
   "id": "718062ca",
   "metadata": {},
   "outputs": [],
   "source": [
    "# ツール呼び出しが必要な場合の処理を行う関数\n",
    "def handle_tool_call(response, question):\n",
    "    # 関数の実行と結果取得\n",
    "    tool = response.choices[0].message.tool_calls[0]\n",
    "    function_name = tool.function.name\n",
    "    arguments = json.loads(tool.function.arguments)\n",
    "    function_response = globals()[function_name](**arguments)\n",
    "\n",
    "    # 関数の実行結果をmessagesに加えて再度言語モデルを呼出\n",
    "    response_after_tool_call = client.chat.completions.create(\n",
    "        model=MODEL_NAME,\n",
    "        messages=[\n",
    "            {\"role\": \"user\", \"content\": question},\n",
    "            response.choices[0].message,\n",
    "            {\n",
    "                \"tool_call_id\": tool.id,\n",
    "                \"role\": \"tool\",\n",
    "                \"content\": function_response,\n",
    "            },\n",
    "        ],\n",
    "    )\n",
    "    return response_after_tool_call"
   ]
  },
  {
   "cell_type": "code",
   "execution_count": 9,
   "id": "4fdd87be",
   "metadata": {},
   "outputs": [],
   "source": [
    "# ユーザーからの質問を処理する関数\n",
    "def process_response(question, tools):\n",
    "    response = ask_question(question, tools)\n",
    "\n",
    "    if response.choices[0].finish_reason == 'tool_calls':\n",
    "        # ツール呼出の場合\n",
    "        final_response = handle_tool_call(response, question)\n",
    "        return final_response.choices[0].message.content.strip()\n",
    "    else:\n",
    "        # 言語モデルが直接回答する場合\n",
    "        return response.choices[0].message.content.strip()"
   ]
  },
  {
   "cell_type": "code",
   "execution_count": 10,
   "id": "18b97bde",
   "metadata": {},
   "outputs": [
    {
     "name": "stdout",
     "output_type": "stream",
     "text": [
      "------define_tools(ツール定義)------\n",
      "東京都と沖縄県の面積を比較すると、沖縄県の方が広いです。具体的な面積は以下の通りです：\n",
      "\n",
      "- 東京都の面積：約2,194平方キロメートル\n",
      "- 沖縄県の面積：約2,271平方キロメートル\n",
      "\n",
      "したがって、沖縄県は東京都よりも約77平方キロメートル広いです。\n"
     ]
    }
   ],
   "source": [
    "tools = define_tools()\n",
    "\n",
    "# 言語モデルが直接回答できる質問\n",
    "question = \"東京都と沖縄県はどちらが広いですか？\"\n",
    "response_message = process_response(question, tools)\n",
    "print(response_message)"
   ]
  },
  {
   "cell_type": "code",
   "execution_count": 11,
   "id": "edeb5288",
   "metadata": {},
   "outputs": [
    {
     "name": "stdout",
     "output_type": "stream",
     "text": [
      "------define_tools(ツール定義)------\n",
      "最近1ヶ月以内に東京駅で行われるイベントについての情報は以下の通りです。\n",
      "\n",
      "1. **東京駅でのイベント**  \n",
      "   - **イベント名**: 東京駅・丸の内のゴールデンウィークイベント  \n",
      "   - **日付**: 2023年4月29日から5月6日  \n",
      "   - **詳細**: 東京駅周辺で様々なアクティビティや特設イベントが開催されます。  \n",
      "   - **URL**: [詳細はこちら](https://www.enjoytokyo.jp/feature/gw/event_area_tokyostation/)\n",
      "\n",
      "2. **Gransta情報**  \n",
      "   - **新着情報**: Gransta内のショップでは、特別キャンペーンやイベントが行われています。具体的な内容は公式サイトで確認可能です。  \n",
      "   - **URL**: [Granstaニュース](https://www.gransta.jp/news/)\n",
      "\n",
      "3. **八重洲地下街のイベント**  \n",
      "   - **イベント名**: 60周年祭  \n",
      "   - **日付**: 6月2日から12月31日まで  \n",
      "   - **詳細**: 期間中に特別なイベントやキャンペーンが開催され、盛り上がる予定です。  \n",
      "   - **URL**: [八重洲地下街イベント情報](https://www.yaechika.com/)\n",
      "\n",
      "これらのイベントは、東京駅及びその周辺で訪れる際の参考になるでしょう。他にも特定の店舗や地区ごとのイベントがあるため、個々の詳細は各ウェブサイトを訪問し確認することをお勧めします。\n"
     ]
    }
   ],
   "source": [
    "tools = define_tools()\n",
    "\n",
    "# ツール呼出が必要な質問\n",
    "question = \"東京駅のイベントについて、最近1ヶ月以内の検索結果を教えてください\"\n",
    "response_message = process_response(question, tools)\n",
    "print(response_message)\n"
   ]
  },
  {
   "cell_type": "code",
   "execution_count": 16,
   "id": "d3dca78a",
   "metadata": {},
   "outputs": [
    {
     "data": {
      "text/plain": [
       "'質問:What are AI events in Tokyo this month?'"
      ]
     },
     "metadata": {},
     "output_type": "display_data"
    },
    {
     "name": "stdout",
     "output_type": "stream",
     "text": [
      "Here are some AI-related events happening in and around Tokyo this month:\n",
      "\n",
      "1. **AIPE 2023**  \n",
      "   - **Date**: October 20-22, 2023  \n",
      "   - **Location**: Tokyo, Japan  \n",
      "   - **Details**: The International Conference on Artificial Intelligence and Power Engineering will be held, focusing on advancements in AI within the power engineering sector.  \n",
      "   - [More information](https://www.aipe.org/aipe2023.html)\n",
      "\n",
      "2. **AI EXPO TOKYO [Autumn] 2023**  \n",
      "   - **Date**: October 25-27, 2023  \n",
      "   - **Location**: Makuhari Messe, Chiba, Japan  \n",
      "   - **Details**: This is Japan's largest trade show for AI technology companies, showcasing the latest innovations and technologies in the AI sector.  \n",
      "   - [More information](https://www.tradeindia.com/tradeshows/112879/ai-expo-tokyo-autumn-2023.html)\n",
      "\n",
      "3. **AIBC 2023**  \n",
      "   - **Date**: October 27-29, 2023  \n",
      "   - **Location**: University of Aizu in Aizu-Wakamatsu, Japan (a bit outside of Tokyo)  \n",
      "   - **Details**: The AIBC event focuses on blockchain, AI, and related technologies, featuring discussions and networking opportunities.  \n",
      "   - [More information](https://www.aibc.org/2023.html)\n",
      "\n",
      "These events provide opportunities for networking, learning, and exploring the latest trends in artificial intelligence.\n",
      "\n",
      "---ご利用ありがとうございました！---\n"
     ]
    }
   ],
   "source": [
    "# チャットボットへの組み込み\n",
    "tools = define_tools()\n",
    "\n",
    "teacher_role = \"あなたは、質問をする生徒に、彼らのキャリアを導くために親切にアドバイスを与える教師です。\"\n",
    "messages = [{\"role\": \"system\", \"content\": teacher_role},]\n",
    "\n",
    "while( True ):\n",
    "    # ユーザーからの質問を受付\n",
    "    question = input(\"メッセージを入力:\")\n",
    "\n",
    "    # 質問が入力されなければ終了\n",
    "    if question.strip() == \"\":\n",
    "        break\n",
    "\n",
    "    display(f\"質問:{question}\")\n",
    "\n",
    "    # メッセージにユーザーからの質問を追加\n",
    "    messages.append({\"role\": \"user\", \"content\": question.strip()})\n",
    "\n",
    "    # 言語モデルに質問\n",
    "    response_message = process_response(question, tools)\n",
    "\n",
    "    # メッセージに言語モデルからの回答を追加\n",
    "    print(response_message, flush=True)\n",
    "    messages.append({\"role\": \"assistant\", \"content\": response_message})\n",
    "\n",
    "print(\"\\n---ご利用ありがとうございました！---\")"
   ]
  },
  {
   "cell_type": "code",
   "execution_count": null,
   "id": "10950436",
   "metadata": {},
   "outputs": [],
   "source": []
  }
 ],
 "metadata": {
  "kernelspec": {
   "display_name": ".venv",
   "language": "python",
   "name": "python3"
  },
  "language_info": {
   "codemirror_mode": {
    "name": "ipython",
    "version": 3
   },
   "file_extension": ".py",
   "mimetype": "text/x-python",
   "name": "python",
   "nbconvert_exporter": "python",
   "pygments_lexer": "ipython3",
   "version": "3.12.7"
  }
 },
 "nbformat": 4,
 "nbformat_minor": 5
}
