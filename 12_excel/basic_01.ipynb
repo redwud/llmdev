{
 "cells": [
  {
   "cell_type": "code",
   "execution_count": 1,
   "id": "80a67e19",
   "metadata": {},
   "outputs": [],
   "source": [
    "# 必要なモジュールをインポート\n",
    "import os\n",
    "from dotenv import load_dotenv\n",
    "from openai import OpenAI\n",
    "import pandas as pd\n",
    "\n",
    "# 環境変数の取得\n",
    "load_dotenv()\n",
    "\n",
    "# OpenAI APIクライアントを生成\n",
    "client = OpenAI(api_key=os.environ['API_KEY'])\n",
    "\n",
    "# モデル名\n",
    "MODEL_NAME = \"gpt-4o-mini\""
   ]
  },
  {
   "cell_type": "code",
   "execution_count": 2,
   "id": "05dcbbcf",
   "metadata": {},
   "outputs": [
    {
     "data": {
      "text/html": [
       "<div>\n",
       "<style scoped>\n",
       "    .dataframe tbody tr th:only-of-type {\n",
       "        vertical-align: middle;\n",
       "    }\n",
       "\n",
       "    .dataframe tbody tr th {\n",
       "        vertical-align: top;\n",
       "    }\n",
       "\n",
       "    .dataframe thead th {\n",
       "        text-align: right;\n",
       "    }\n",
       "</style>\n",
       "<table border=\"1\" class=\"dataframe\">\n",
       "  <thead>\n",
       "    <tr style=\"text-align: right;\">\n",
       "      <th></th>\n",
       "      <th>カテゴリー</th>\n",
       "      <th>商品コード</th>\n",
       "      <th>商品名</th>\n",
       "      <th>売上日</th>\n",
       "      <th>単価</th>\n",
       "      <th>数量</th>\n",
       "      <th>原価</th>\n",
       "    </tr>\n",
       "  </thead>\n",
       "  <tbody>\n",
       "    <tr>\n",
       "      <th>0</th>\n",
       "      <td>食品</td>\n",
       "      <td>1001</td>\n",
       "      <td>りんご</td>\n",
       "      <td>2023-01-01</td>\n",
       "      <td>200</td>\n",
       "      <td>50</td>\n",
       "      <td>120</td>\n",
       "    </tr>\n",
       "    <tr>\n",
       "      <th>1</th>\n",
       "      <td>食品</td>\n",
       "      <td>1002</td>\n",
       "      <td>バナナ</td>\n",
       "      <td>2023-01-01</td>\n",
       "      <td>150</td>\n",
       "      <td>100</td>\n",
       "      <td>80</td>\n",
       "    </tr>\n",
       "    <tr>\n",
       "      <th>2</th>\n",
       "      <td>食品</td>\n",
       "      <td>1003</td>\n",
       "      <td>牛乳</td>\n",
       "      <td>2023-01-02</td>\n",
       "      <td>180</td>\n",
       "      <td>80</td>\n",
       "      <td>100</td>\n",
       "    </tr>\n",
       "    <tr>\n",
       "      <th>3</th>\n",
       "      <td>衣服</td>\n",
       "      <td>2001</td>\n",
       "      <td>Tシャツ</td>\n",
       "      <td>2023-01-02</td>\n",
       "      <td>1500</td>\n",
       "      <td>20</td>\n",
       "      <td>800</td>\n",
       "    </tr>\n",
       "    <tr>\n",
       "      <th>4</th>\n",
       "      <td>衣服</td>\n",
       "      <td>2002</td>\n",
       "      <td>ジーンズ</td>\n",
       "      <td>2023-01-03</td>\n",
       "      <td>5000</td>\n",
       "      <td>10</td>\n",
       "      <td>2500</td>\n",
       "    </tr>\n",
       "  </tbody>\n",
       "</table>\n",
       "</div>"
      ],
      "text/plain": [
       "  カテゴリー  商品コード   商品名        売上日    単価   数量    原価\n",
       "0    食品   1001   りんご 2023-01-01   200   50   120\n",
       "1    食品   1002   バナナ 2023-01-01   150  100    80\n",
       "2    食品   1003    牛乳 2023-01-02   180   80   100\n",
       "3    衣服   2001  Tシャツ 2023-01-02  1500   20   800\n",
       "4    衣服   2002  ジーンズ 2023-01-03  5000   10  2500"
      ]
     },
     "execution_count": 2,
     "metadata": {},
     "output_type": "execute_result"
    }
   ],
   "source": [
    "# 1. Excelファイルを読み込む\n",
    "df = pd.read_excel('サンプルデータ.xlsx', sheet_name='売上データ')\n",
    "# データフレームを表示して確認\n",
    "df.head()"
   ]
  },
  {
   "cell_type": "code",
   "execution_count": 4,
   "id": "e5ac6faa",
   "metadata": {},
   "outputs": [
    {
     "name": "stdout",
     "output_type": "stream",
     "text": [
      "売上データ:\n",
      "    カテゴリー 商品コード      商品名         売上日    単価   数量    原価\n",
      "0      食品  1001      りんご  2023-01-01   200   50   120\n",
      "1      食品  1002      バナナ  2023-01-01   150  100    80\n",
      "2      食品  1003       牛乳  2023-01-02   180   80   100\n",
      "3      衣服  2001     Tシャツ  2023-01-02  1500   20   800\n",
      "4      衣服  2002     ジーンズ  2023-01-03  5000   10  2500\n",
      "..    ...   ...      ...         ...   ...  ...   ...\n",
      "235    衣服  2077   レインパンツ  2023-04-28  2000   18  1000\n",
      "236    食品  1085      ザクロ  2023-04-29   600   40   300\n",
      "237   日用品  3077    バスブラシ  2023-04-29   400   60   200\n",
      "238    衣服  2078  レインシューズ  2023-04-30  2500   15  1250\n",
      "239    食品  1086    ココナッツ  2023-04-30   300   80   150\n",
      "\n",
      "[240 rows x 7 columns]\n",
      "この売上データの傾向を分析してください。\n"
     ]
    }
   ],
   "source": [
    "# 2. データをLLM用にテキスト形式に変換\n",
    "# データフレーム全体を文字列に変換\n",
    "sales_data_text = df.astype(str)\n",
    "prompt_text = f\"売上データ:\\n{sales_data_text}\\nこの売上データの傾向を分析してください。\"\n",
    "# 表示して確認\n",
    "print(prompt_text)"
   ]
  },
  {
   "cell_type": "code",
   "execution_count": 5,
   "id": "77f10c7d",
   "metadata": {},
   "outputs": [
    {
     "name": "stdout",
     "output_type": "stream",
     "text": [
      "この売上データを分析することで、さまざまなビジネスインサイトを得られます。以下に、主な傾向と考察を示します。\n",
      "\n",
      "### 1. カテゴリー別売上の傾向\n",
      "- **食品**：比較的安価な商品が多いですが、売上数量が多いことから、消費者の需要が高いことが示唆されます。このカテゴリーでは、特にりんごや牛乳の売上が高いと考えられます。\n",
      "- **衣服**：単価が高い商品（Tシャツやジーンズなど）が多く、数量がそれに応じて少ないものの、売上総額は高い傾向があります。トレンドやシーズンに応じて売上が変動しやすいカテゴリーです。\n",
      "- **日用品**：このカテゴリーにはバスブラシといった商品の売上がありますが、他の2つのカテゴリーに比べて売上が低い可能性があります。需要促進策が必要かもしれません。\n",
      "\n",
      "### 2. 時間的な傾向\n",
      "- 売上日の情報から、月ごとの売上動向を分析することができます。特定の月に売上が高い場合、その時期のプロモーションやセールからの影響が考えられます。\n",
      "- 例えば、年末や新年に向けての特別セールが、食品や衣服の購買を促すピーク要因として作用している可能性があります。\n",
      "\n",
      "### 3. 原価との関係\n",
      "- 商品の原価と単価から、利益率を計算することで、どの商品が利益に寄与しているかを分析できます。例えば、ジーンズやTシャツは高い利益率を持つ反面、売上数量自体は他の商品に比べて低い場合があるため、利益と売上のバランスを考慮する必要があります。\n",
      "- 食品の売上数量が多い一方、原価が低いため、全体の利益へのインパクトは相対的に小さくなる可能性があります。\n",
      "\n",
      "### 4. 売上数量と単価の関係\n",
      "- 高単価の商品は販売数量が少ない場合が多いという一般的傾向が見られます。例えば、Tシャツやジーンズのような商品は、消費者が一度に購入する数量が少ないですが、単価が高いため、売上には寄与しています。\n",
      "- この傾向をもとに、販売戦略を調整することが重要です。たとえば、高単価商品に対してバンドル販売や割引を提供する等の施策が効果的でしょう。\n",
      "\n",
      "### 5. 提案\n",
      "- **プロモーション戦略の見直し**：売上が低い商品やカテゴリーに対して特別なプロモーションを行うことを検討します。\n",
      "- **商品ラインナップの最適化**：売上データをもとに、人気商品や利益率の高い商品の拡充を図るとともに、需要の低い商品の見直しを行います。\n",
      "- **季節商品やトレンド商品の導入**：季節ごとの需要の変動に対応した商品戦略を考えることが重要です。\n",
      "\n",
      "これらの分析結果を基に、さらなるデータにアクセスして具体的な施策を講じることで、企業の成長を促進させることが可能です。\n"
     ]
    }
   ],
   "source": [
    "# 3. OpenAI APIの呼び出し\n",
    "\n",
    "# 役割を設定\n",
    "role = \"あなたはマーケティング分野に精通したデータサイエンティストです。企業の成長をサポートするために、効果的なインサイトを提供します。\"\n",
    "\n",
    "# APIへリクエスト\n",
    "response = client.chat.completions.create(\n",
    "    model=MODEL_NAME,\n",
    "    messages=[\n",
    "        {\"role\": \"system\", \"content\": role},\n",
    "        {\"role\": \"user\", \"content\": prompt_text},\n",
    "    ],\n",
    ")\n",
    "\n",
    "# LLMからの回答を表示\n",
    "print(response.choices[0].message.content.strip())"
   ]
  },
  {
   "cell_type": "code",
   "execution_count": 6,
   "id": "ae2a98ac",
   "metadata": {},
   "outputs": [
    {
     "name": "stdout",
     "output_type": "stream",
     "text": [
      "                                                   結果\n",
      "0   この売上データを分析することで、さまざまなビジネスインサイトを得られます。以下に、主な傾向と...\n",
      "1                                                    \n",
      "2                                  ### 1. カテゴリー別売上の傾向\n",
      "3   - **食品**：比較的安価な商品が多いですが、売上数量が多いことから、消費者の需要が高いこ...\n",
      "4   - **衣服**：単価が高い商品（Tシャツやジーンズなど）が多く、数量がそれに応じて少ないも...\n",
      "5   - **日用品**：このカテゴリーにはバスブラシといった商品の売上がありますが、他の2つのカ...\n",
      "6                                                    \n",
      "7                                       ### 2. 時間的な傾向\n",
      "8   - 売上日の情報から、月ごとの売上動向を分析することができます。特定の月に売上が高い場合、そ...\n",
      "9   - 例えば、年末や新年に向けての特別セールが、食品や衣服の購買を促すピーク要因として作用して...\n",
      "10                                                   \n",
      "11                                      ### 3. 原価との関係\n",
      "12  - 商品の原価と単価から、利益率を計算することで、どの商品が利益に寄与しているかを分析できま...\n",
      "13  - 食品の売上数量が多い一方、原価が低いため、全体の利益へのインパクトは相対的に小さくなる可...\n",
      "14                                                   \n",
      "15                                  ### 4. 売上数量と単価の関係\n",
      "16  - 高単価の商品は販売数量が少ない場合が多いという一般的傾向が見られます。例えば、Tシャツや...\n",
      "17  - この傾向をもとに、販売戦略を調整することが重要です。たとえば、高単価商品に対してバンドル...\n",
      "18                                                   \n",
      "19                                          ### 5. 提案\n",
      "20  - **プロモーション戦略の見直し**：売上が低い商品やカテゴリーに対して特別なプロモーショ...\n",
      "21  - **商品ラインナップの最適化**：売上データをもとに、人気商品や利益率の高い商品の拡充を...\n",
      "22  - **季節商品やトレンド商品の導入**：季節ごとの需要の変動に対応した商品戦略を考えること...\n",
      "23                                                   \n",
      "24  これらの分析結果を基に、さらなるデータにアクセスして具体的な施策を講じることで、企業の成長を...\n"
     ]
    }
   ],
   "source": [
    "result_list = response.choices[0].message.content.strip().split(\"\\n\")\n",
    "df_out = pd.DataFrame(result_list, columns=['結果'])\n",
    "print(df_out)"
   ]
  },
  {
   "cell_type": "code",
   "execution_count": 7,
   "id": "2d4a9358",
   "metadata": {},
   "outputs": [],
   "source": [
    "# 5. 結果をExcelファイルに保存\n",
    "df_out.to_excel(\"売上データ分析結果.xlsx\", index=False)"
   ]
  },
  {
   "cell_type": "code",
   "execution_count": 8,
   "id": "f8b6861c",
   "metadata": {},
   "outputs": [
    {
     "name": "stdout",
     "output_type": "stream",
     "text": [
      "処理を開始します。\n",
      "Excelファイルに分析結果を保存しました。\n"
     ]
    }
   ],
   "source": [
    "# ワークフロー化\n",
    "print(\"処理を開始します。\")\n",
    "\n",
    "# 1. Excelファイルを読み込む\n",
    "df = pd.read_excel('サンプルデータ.xlsx', sheet_name='売上データ')\n",
    "\n",
    "# 2. データをLLM用にテキスト形式に変換\n",
    "sales_data_text = df.astype(str)\n",
    "prompt_text = f\"売上データ:\\n{sales_data_text}\\nこの売上データの傾向を分析してください。\"\n",
    "\n",
    "# 3. OpenAI APIの呼び出し\n",
    "# 役割を設定\n",
    "role = \"あなたはマーケティング分野に精通したデータサイエンティストです。企業の成長をサポートするために、効果的なインサイトを提供します。\"\n",
    "# APIへリクエスト\n",
    "response = client.chat.completions.create(\n",
    "    model=MODEL_NAME,\n",
    "    messages=[\n",
    "        {\"role\": \"system\", \"content\": role},\n",
    "        {\"role\": \"user\", \"content\": prompt_text},\n",
    "    ],\n",
    ")\n",
    "\n",
    "# 4. 分析結果をデータフレームに変換\n",
    "result_list = response.choices[0].message.content.strip().split(\"\\n\")\n",
    "df_out = pd.DataFrame(result_list, columns=['結果'])\n",
    "\n",
    "# 5. 結果をExcelファイルに保存\n",
    "df_out.to_excel(\"売上データ分析結果.xlsx\", index=False)\n",
    "\n",
    "print(\"Excelファイルに分析結果を保存しました。\")"
   ]
  }
 ],
 "metadata": {
  "kernelspec": {
   "display_name": ".venv",
   "language": "python",
   "name": "python3"
  },
  "language_info": {
   "codemirror_mode": {
    "name": "ipython",
    "version": 3
   },
   "file_extension": ".py",
   "mimetype": "text/x-python",
   "name": "python",
   "nbconvert_exporter": "python",
   "pygments_lexer": "ipython3",
   "version": "3.12.7"
  }
 },
 "nbformat": 4,
 "nbformat_minor": 5
}
