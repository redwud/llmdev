{
 "cells": [
  {
   "cell_type": "code",
   "execution_count": 7,
   "id": "f7c1e667",
   "metadata": {},
   "outputs": [],
   "source": [
    "def alphabet_hash():\n",
    "    alpha_keys = [chr(ch) for ch in range( ord('a'), ord('z') + 1 )]\n",
    "    return dict.fromkeys( alpha_keys, 0 )\n",
    "\n",
    "def count_alpha( hash, a_word ):\n",
    "    for ch in str(a_word).lower():\n",
    "        if ch in hash:\n",
    "            hash[ch] += 1\n",
    "\n",
    "def gather_words():\n",
    "    words = []\n",
    "    while (True):\n",
    "        a_word = input(\"英単語を入力してください：\")\n",
    "        if a_word:\n",
    "            words.append(a_word)\n",
    "        else:\n",
    "            break\n",
    "    hash = alphabet_hash()\n",
    "    for a_word in words:\n",
    "        count_alpha( hash, a_word )\n",
    "    return (hash, words)\n",
    "\n",
    "def display_result( hash ):\n",
    "    for ch, count in hash.items():\n",
    "        if count:\n",
    "            print(f\"{ch}が{count}個ありました\")"
   ]
  },
  {
   "cell_type": "code",
   "execution_count": 8,
   "id": "fb3d83c4",
   "metadata": {},
   "outputs": [
    {
     "name": "stdout",
     "output_type": "stream",
     "text": [
      "入力した英単語：['bear', 'cat', 'dog', 'giraffe', 'horse', 'kangaroo']\n",
      "aが5個ありました\n",
      "bが1個ありました\n",
      "cが1個ありました\n",
      "dが1個ありました\n",
      "eが3個ありました\n",
      "fが2個ありました\n",
      "gが3個ありました\n",
      "hが1個ありました\n",
      "iが1個ありました\n",
      "kが1個ありました\n",
      "nが1個ありました\n",
      "oが4個ありました\n",
      "rが4個ありました\n",
      "sが1個ありました\n",
      "tが1個ありました\n"
     ]
    }
   ],
   "source": [
    "hash, words = gather_words()\n",
    "words.sort()\n",
    "print(f\"入力した英単語：{words}\")\n",
    "display_result( hash )"
   ]
  },
  {
   "cell_type": "code",
   "execution_count": null,
   "id": "0cb7475c",
   "metadata": {},
   "outputs": [],
   "source": []
  }
 ],
 "metadata": {
  "kernelspec": {
   "display_name": ".venv",
   "language": "python",
   "name": "python3"
  },
  "language_info": {
   "codemirror_mode": {
    "name": "ipython",
    "version": 3
   },
   "file_extension": ".py",
   "mimetype": "text/x-python",
   "name": "python",
   "nbconvert_exporter": "python",
   "pygments_lexer": "ipython3",
   "version": "3.12.7"
  }
 },
 "nbformat": 4,
 "nbformat_minor": 5
}
