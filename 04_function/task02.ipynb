{
 "cells": [
  {
   "cell_type": "code",
   "execution_count": 15,
   "id": "f34e0710",
   "metadata": {},
   "outputs": [],
   "source": [
    "\n",
    "from urllib import request\n",
    "from datetime import datetime\n",
    "\n",
    "def save_url_content( url :str ) -> str:\n",
    "    filename :str = \"\"\n",
    "\n",
    "    try: \n",
    "       response = request.urlopen( url )\n",
    "       html :str = response.read().decode(\"utf-8\")[:500]\n",
    "       filename = datetime.now().strftime('%Y%m%d_%H%M%S.txt')\n",
    "       \n",
    "       with open( filename, \"w\", encoding=\"utf-8\" ) as file:\n",
    "           file.write( html ) \n",
    "    except Exception as e:\n",
    "        print( f\"例外が発生しました：{e}\")\n",
    "        filename = \"\"\n",
    "    return filename"
   ]
  },
  {
   "cell_type": "code",
   "execution_count": 16,
   "id": "43fa1b63",
   "metadata": {},
   "outputs": [
    {
     "name": "stdout",
     "output_type": "stream",
     "text": [
      "例外が発生しました：unknown url type: 'yahoo'\n",
      "Content saved in: \n"
     ]
    }
   ],
   "source": [
    "url = input(\"URLを入力してください: \")\n",
    "file_name = save_url_content(url)\n",
    "print(f\"Content saved in: {file_name}\")"
   ]
  }
 ],
 "metadata": {
  "kernelspec": {
   "display_name": ".venv",
   "language": "python",
   "name": "python3"
  },
  "language_info": {
   "codemirror_mode": {
    "name": "ipython",
    "version": 3
   },
   "file_extension": ".py",
   "mimetype": "text/x-python",
   "name": "python",
   "nbconvert_exporter": "python",
   "pygments_lexer": "ipython3",
   "version": "3.12.7"
  }
 },
 "nbformat": 4,
 "nbformat_minor": 5
}
