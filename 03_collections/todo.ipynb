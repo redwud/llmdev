{
 "cells": [
  {
   "cell_type": "code",
   "execution_count": 6,
   "id": "6b0fdc78",
   "metadata": {},
   "outputs": [],
   "source": [
    "def display_list( todo_list ):\n",
    "    for i, todo in enumerate(todo_list):\n",
    "        print(f\"{i}. {todo}\")\n",
    "\n",
    "def delete_index( todo_list, index ):\n",
    "    error_message = \"無効な番号です。\" \n",
    "    try:\n",
    "        index = int(index)\n",
    "        if index < 0 or index >= len(todo_list):\n",
    "            print( error_message, flush=True )\n",
    "        else:\n",
    "            todo_list.pop( index )\n",
    "    except ValueError:\n",
    "        print( error_message, flush=True )\n"
   ]
  },
  {
   "cell_type": "code",
   "execution_count": 8,
   "id": "029b448a",
   "metadata": {},
   "outputs": [
    {
     "name": "stdout",
     "output_type": "stream",
     "text": [
      "【TODOリスト】\n",
      "番号を入力してください[1:追加、2:表示、3:削除、4:保存と終了]:2:表示\n",
      "0. test1\n",
      "1. task2\n",
      "番号を入力してください[1:追加、2:表示、3:削除、4:保存と終了]:4:保存と終了\n",
      "TODOリストを保存して終了します。\n"
     ]
    }
   ],
   "source": [
    "# TODOリストを格納するリスト\n",
    "filename = \"todo_list.txt\"\n",
    "try:\n",
    "    # ファイルが存在したら内容を読込\n",
    "    with open(filename, \"r\", encoding=\"utf-8\") as file:\n",
    "        todo_list = [line.strip() for line in file]\n",
    "except FileNotFoundError:\n",
    "    # ファイルが存在しない場合は新しいリストを作成\n",
    "    todo_list = []\n",
    "\n",
    "# メニュー表示\n",
    "print(\"【TODOリスト】\")\n",
    "\n",
    "while True:\n",
    "    print(\"番号を入力してください[1:追加、2:表示、3:削除、4:保存と終了]:\", end=\"\", flush=True)\n",
    "    choice = input(\"\")\n",
    "\n",
    "    if choice == \"1\":\n",
    "        print(\"1:追加\", flush=True)\n",
    "        add_todo = input(\"追加するTODO: \")\n",
    "        print(\"追加するTODO:\", add_todo, flush=True)\n",
    "        todo_list.append(add_todo)\n",
    "    elif choice == \"2\":\n",
    "        print(\"2:表示\", flush=True)\n",
    "        display_list( todo_list )\n",
    "    elif choice == \"3\":\n",
    "        print(\"3:削除\", flush=True)\n",
    "        display_list( todo_list )\n",
    "        index = input(\"削除する番号: \")\n",
    "        delete_index( todo_list, index )\n",
    "    elif choice == \"4\":\n",
    "        print(\"4:保存と終了\", flush=True)\n",
    "        with open(filename, \"w\", encoding=\"utf-8\") as file:\n",
    "            file.writelines(f\"{todo}\\n\" for todo in todo_list)\n",
    "        print(\"TODOリストを保存して終了します。\", flush=True)\n",
    "        break\n",
    "    else:\n",
    "        print(\"1-4の数字を入力してください。\", flush=True)"
   ]
  }
 ],
 "metadata": {
  "kernelspec": {
   "display_name": ".venv",
   "language": "python",
   "name": "python3"
  },
  "language_info": {
   "codemirror_mode": {
    "name": "ipython",
    "version": 3
   },
   "file_extension": ".py",
   "mimetype": "text/x-python",
   "name": "python",
   "nbconvert_exporter": "python",
   "pygments_lexer": "ipython3",
   "version": "3.12.7"
  }
 },
 "nbformat": 4,
 "nbformat_minor": 5
}
