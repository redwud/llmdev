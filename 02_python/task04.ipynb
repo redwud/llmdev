{
 "cells": [
  {
   "cell_type": "code",
   "execution_count": 8,
   "id": "566085a2",
   "metadata": {},
   "outputs": [
    {
     "name": "stdout",
     "output_type": "stream",
     "text": [
      "エラー: 0で割ることはできません\n"
     ]
    }
   ],
   "source": [
    "_1st_num = input(\"1つ目の数を入力してください：\")\n",
    "_2nd_num = input(\"1つ目の数を入力してください：\")\n",
    "\n",
    "try:\n",
    "    result = float( _1st_num ) / float( _2nd_num ) \n",
    "    print(f\"計算結果: {result}\")\n",
    "except ValueError:\n",
    "    print(\"エラー: 数値を入力してください\")\n",
    "except ZeroDivisionError:\n",
    "    print(\"エラー: 0で割ることはできません\")"
   ]
  }
 ],
 "metadata": {
  "kernelspec": {
   "display_name": ".venv",
   "language": "python",
   "name": "python3"
  },
  "language_info": {
   "codemirror_mode": {
    "name": "ipython",
    "version": 3
   },
   "file_extension": ".py",
   "mimetype": "text/x-python",
   "name": "python",
   "nbconvert_exporter": "python",
   "pygments_lexer": "ipython3",
   "version": "3.12.7"
  }
 },
 "nbformat": 4,
 "nbformat_minor": 5
}
