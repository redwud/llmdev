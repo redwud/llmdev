{
 "cells": [
  {
   "cell_type": "code",
   "execution_count": 4,
   "id": "86034672",
   "metadata": {},
   "outputs": [
    {
     "name": "stdout",
     "output_type": "stream",
     "text": [
      "10年後の金額:1628.89\n"
     ]
    }
   ],
   "source": [
    "capital = float(input(\"元金を入力してください:\"))\n",
    "yearly_interest = float(input(\"年利を入力してください:\")) / 100.0\n",
    "compounded_value = capital\n",
    "\n",
    "for i in range(10):\n",
    "    compounded_value += (compounded_value * yearly_interest)\n",
    "\n",
    "print(f\"10年後の金額:{compounded_value:.2f}\")\n",
    "\n"
   ]
  }
 ],
 "metadata": {
  "kernelspec": {
   "display_name": ".venv",
   "language": "python",
   "name": "python3"
  },
  "language_info": {
   "codemirror_mode": {
    "name": "ipython",
    "version": 3
   },
   "file_extension": ".py",
   "mimetype": "text/x-python",
   "name": "python",
   "nbconvert_exporter": "python",
   "pygments_lexer": "ipython3",
   "version": "3.12.7"
  }
 },
 "nbformat": 4,
 "nbformat_minor": 5
}
