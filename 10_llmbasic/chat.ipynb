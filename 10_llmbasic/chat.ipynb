{
 "cells": [
  {
   "cell_type": "code",
   "execution_count": 1,
   "id": "6867cf6d",
   "metadata": {},
   "outputs": [],
   "source": [
    "# 必要なモジュールをインポート\n",
    "import os\n",
    "from dotenv import load_dotenv\n",
    "from openai import OpenAI\n",
    "from pprint import pprint\n",
    "\n",
    "# 環境変数の取得\n",
    "load_dotenv(\"../.env\")\n",
    "\n",
    "# OpenAI APIクライアントを生成\n",
    "client = OpenAI(api_key=os.environ['API_KEY'])\n",
    "\n",
    "# モデル名\n",
    "MODEL_NAME = \"gpt-4o-mini\""
   ]
  },
  {
   "cell_type": "code",
   "execution_count": 2,
   "id": "626f02eb",
   "metadata": {},
   "outputs": [
    {
     "name": "stdout",
     "output_type": "stream",
     "text": [
      "{'_request_id': 'req_cd60fdd6eb82484b813a3c07c9d37a5e',\n",
      " 'choices': [Choice(finish_reason='stop', index=0, logprobs=None, message=ChatCompletionMessage(content='言語モデルを使用する際のポイントはいくつかあります。以下に重要な点を挙げます：\\n\\n1. **目的の明確化**: 使用する言語モデルの目的を明確にし、何を達成したいのかを把握しておくことが重要です。例えば、テキスト生成、質問応答、翻訳など、使用するシナリオによって適切なモデルや設定が変わります。\\n\\n2. **トレーニングデータの理解**: モデルがどのようなデータでトレーニングされているかを理解することが大切です。特定のバイアスや限界が存在する場合があるため、その影響を認識する必要があります。\\n\\n3. **プロンプトの設計**: 効果的なプロンプト（入力文）を設計することが、モデルの出力に大きな影響を与えます。具体的で明確な質問や指示を心がけることで、より良い結果が得られます。\\n\\n4. **評価とフィードバック**: 出力結果を評価し、必要に応じてフィードバックを与えることが重要です。どのような結果が期待されるのかを明確にし、それに基づいて出力を調整するプロセスを持つと良いでしょう。\\n\\n5. **エラーの認識**: 言語モデルは完璧ではないため、時折不正確な情報や不適切な内容を生成することがあります。結果を鵜呑みにせず、特に重要な決定を行う前には必ず確認を行うべきです。\\n\\n6. **倫理的配慮**: 言語モデルを使用する際には、倫理的な配慮が必要です。偏見や誤情報の拡散を防ぐため、注意深く運用し、適切な用途で使用することが重要です。\\n\\n7. **継続的な学習**: 言語モデルや関連技術は日々進化しています。最新の研究や技術動向を追い、モデルの使い方や最適化方法について学び続けることが大切です。\\n\\nこれらのポイントに留意しながら言語モデルを活用することで、より効果的かつ良質な結果を得ることができるでしょう。', refusal=None, role='assistant', audio=None, function_call=None, tool_calls=None, annotations=[]))],\n",
      " 'created': 1757033982,\n",
      " 'id': 'chatcmpl-CCF5i7rxmpyfugNVLe3BKu7SSQgpT',\n",
      " 'model': 'gpt-4o-mini-2024-07-18',\n",
      " 'object': 'chat.completion',\n",
      " 'service_tier': 'default',\n",
      " 'system_fingerprint': 'fp_8bda4d3a2c',\n",
      " 'usage': CompletionUsage(completion_tokens=548, prompt_tokens=18, total_tokens=566, completion_tokens_details=CompletionTokensDetails(accepted_prediction_tokens=0, audio_tokens=0, reasoning_tokens=0, rejected_prediction_tokens=0), prompt_tokens_details=PromptTokensDetails(audio_tokens=0, cached_tokens=0))}\n"
     ]
    }
   ],
   "source": [
    "# メッセージの設定\n",
    "message = \"言語モデルを使う上でのポイントは\"\n",
    "\n",
    "# APIへリクエスト\n",
    "response = client.chat.completions.create(\n",
    "    model=MODEL_NAME,\n",
    "    messages=[\n",
    "        {\"role\": \"user\", \"content\": message},\n",
    "    ]\n",
    ")\n",
    "\n",
    "# レスポンスの表示\n",
    "pprint(vars(response))"
   ]
  },
  {
   "cell_type": "code",
   "execution_count": 5,
   "id": "8f435722",
   "metadata": {},
   "outputs": [
    {
     "name": "stdout",
     "output_type": "stream",
     "text": [
      "言語モデルを使用する際のポイントはいくつかあります。以下に重要な点を挙げます：\n",
      "\n",
      "1. **目的の明確化**: 使用する言語モデルの目的を明確にし、何を達成したいのかを把握しておくことが重要です。例えば、テキスト生成、質問応答、翻訳など、使用するシナリオによって適切なモデルや設定が変わります。\n",
      "\n",
      "2. **トレーニングデータの理解**: モデルがどのようなデータでトレーニングされているかを理解することが大切です。特定のバイアスや限界が存在する場合があるため、その影響を認識する必要があります。\n",
      "\n",
      "3. **プロンプトの設計**: 効果的なプロンプト（入力文）を設計することが、モデルの出力に大きな影響を与えます。具体的で明確な質問や指示を心がけることで、より良い結果が得られます。\n",
      "\n",
      "4. **評価とフィードバック**: 出力結果を評価し、必要に応じてフィードバックを与えることが重要です。どのような結果が期待されるのかを明確にし、それに基づいて出力を調整するプロセスを持つと良いでしょう。\n",
      "\n",
      "5. **エラーの認識**: 言語モデルは完璧ではないため、時折不正確な情報や不適切な内容を生成することがあります。結果を鵜呑みにせず、特に重要な決定を行う前には必ず確認を行うべきです。\n",
      "\n",
      "6. **倫理的配慮**: 言語モデルを使用する際には、倫理的な配慮が必要です。偏見や誤情報の拡散を防ぐため、注意深く運用し、適切な用途で使用することが重要です。\n",
      "\n",
      "7. **継続的な学習**: 言語モデルや関連技術は日々進化しています。最新の研究や技術動向を追い、モデルの使い方や最適化方法について学び続けることが大切です。\n",
      "\n",
      "これらのポイントに留意しながら言語モデルを活用することで、より効果的かつ良質な結果を得ることができるでしょう。\n"
     ]
    }
   ],
   "source": [
    "# 言語モデルからの回答を表示\n",
    "print(response.choices[0].message.content.strip())"
   ]
  },
  {
   "cell_type": "code",
   "execution_count": 6,
   "id": "1e516b1e",
   "metadata": {},
   "outputs": [
    {
     "name": "stdout",
     "output_type": "stream",
     "text": [
      "新製品の発売に向けた効果的なマーケティング戦略は、以下のステップで構成されます。\n",
      "\n",
      "### 1. ターゲット市場の分析\n",
      "- **市場調査**: 顧客のニーズ、競合製品、トレンドを分析します。\n",
      "- **ペルソナ作成**: 典型的な顧客像を明確にし、彼らの興味や購買動機を理解します。\n",
      "\n",
      "### 2. 明確なブランドメッセージの策定\n",
      "- **価値提案の明確化**: 製品が顧客にどのような価値を提供するのかを明確にします。\n",
      "- **ストーリーテリング**: ブランドや製品の背景、開発の思いを伝えるストーリーを作成します。\n",
      "\n",
      "### 3. マルチチャネルのプロモーション戦略\n",
      "- **ソーシャルメディア**: Instagram、Facebook、Twitterなどでのティーザーキャンペーンを展開します。\n",
      "- **インフルエンサーマーケティング**: 業界のオピニオンリーダーやインフルエンサーと連携し、製品を紹介します。\n",
      "- **コンテンツマーケティング**: ブログ、動画、ウェビナーなどを通じて、教育的かつエンターテインメント性のあるコンテンツを提供します。\n",
      "\n",
      "### 4. プレローンチキャンペーン\n",
      "- **製品の先行予約**: 限定オファーや割引を提供して、早期の購入を促します。\n",
      "- **VIPイベントやウェビナー**: 製品の魅力を直接伝えるためのイベントを開催します。\n",
      "\n",
      "### 5. ローンチ戦略\n",
      "- **ローンチイベント**: オンラインまたはオフラインでの公式発表イベントを計画し、メディアや業界関係者を招待します。\n",
      "- **無料サンプルやトライアル提供**: 顧客に実際に製品を試してもらうことで、興味を引きます。\n",
      "\n",
      "### 6. フィードバックの収集と改善\n",
      "- **顧客レビュー**: 購入者からのフィードバックを促進し、製品の改善点を把握します。\n",
      "- **データ分析**: 売上、トラフィック、エンゲージメントデータを分析し、次の戦略を調整します。\n",
      "\n",
      "### 7. 継続的なコミュニケーション\n",
      "- **顧客エンゲージメント**: メールマガジンやソーシャルメディアで定期的に顧客と関わり、フォローアップを行います。\n",
      "- **ロイヤリティプログラム**: リピート顧客を増やすためのインセンティブを提供します。\n",
      "\n",
      "これらのステップを組み合わせて、市場での製品認知度を高め、顧客の関心を引きつける効果的なマーケティング戦略を展開しましょう。\n"
     ]
    }
   ],
   "source": [
    "# 役割や前提の設定\n",
    "role = \"あなたはマーケティング分野に精通したビジネスコンサルタントです。企業の成長をサポートするために、効果的なマーケティング戦略を提供します。\"\n",
    "\n",
    "# メッセージの設定\n",
    "message = \"新製品の発売に向けた効果的なマーケティング戦略を教えてください。\"\n",
    "\n",
    "# APIへリクエスト\n",
    "response = client.chat.completions.create(\n",
    "    model=MODEL_NAME,\n",
    "    messages=[\n",
    "        {\"role\": \"system\", \"content\": role},\n",
    "        {\"role\": \"user\", \"content\": message},\n",
    "    ],\n",
    ")\n",
    "\n",
    "# 言語モデルからの回答を表示\n",
    "print(response.choices[0].message.content.strip())"
   ]
  },
  {
   "cell_type": "code",
   "execution_count": 7,
   "id": "2514f609",
   "metadata": {},
   "outputs": [
    {
     "name": "stdout",
     "output_type": "stream",
     "text": [
      "--------------------\n",
      "日本には多くの魅力があり、さまざまな文化や自然訪れることで多くの経験が得られます。以下にいくつかの日本の魅力を紹介します。\n",
      "\n",
      "1. **豊かな歴史と文化**: 日本の各地には古代からの寺社仏閣、城、伝統的な町並みが存在し、訪れる人々に歴史を感じさせてくれ\n",
      "--------------------\n",
      "もちろんです！日本は多様な文化、伝統、美しい自然、美味しい料理などが楽しめる国です。以下にいくつかの日本の魅力を紹介します。\n",
      "\n",
      "1. **文化と伝統**:\n",
      "   - 日本の伝統文化には、茶道、花道、武道や書道などがあり、それぞれが深い歴史と哲学を持っています。また、季節に合わせた祭り（例：\n",
      "--------------------\n",
      "もちろんです！日本には多くの魅力がありますので、いくつか紹介しますね。\n",
      "\n",
      "1. **美しい自然景観**: 日本は四季がはっきりしており、それぞれの季節に特有の自然の美しさがあります。春には桜が満開になり、夏には緑豊かな山々や清流、秋には紅葉が楽しめます。冬には雪景色や温泉地\n"
     ]
    }
   ],
   "source": [
    "# 出力の多様性\n",
    "message = \"日本の魅力を紹介して！\"\n",
    "\n",
    "# APIへリクエスト\n",
    "response = client.chat.completions.create(\n",
    "    model=MODEL_NAME,\n",
    "    messages=[\n",
    "        {\"role\": \"user\", \"content\": message},\n",
    "    ],\n",
    "    temperature=1.4,\n",
    "    n = 3, # 3回答を得る\n",
    "    max_completion_tokens = 100 # 出力トークン長を制限\n",
    ")\n",
    "\n",
    "# 結果を表示（複数回答を比較）\n",
    "for choice in response.choices:\n",
    "    print(\"-\" * 20)\n",
    "    print(choice.message.content.strip())"
   ]
  },
  {
   "cell_type": "code",
   "execution_count": 8,
   "id": "ad00061f",
   "metadata": {},
   "outputs": [
    {
     "name": "stdout",
     "output_type": "stream",
     "text": [
      "--------------------\n",
      "もちろんです！日本にはたくさんの魅力があります。以下にいくつかを紹介します。\n",
      "\n",
      "1. **豊かな文化と歴史**: 日本は古代からの豊かな文化と歴史を持つ国です。神社や寺院、伝統的な祭りや行事があります。たとえば、京都の金閣寺や奈良の大仏は、訪れる価値があります。\n",
      "\n",
      "2. **美しい自然\n",
      "--------------------\n",
      "もちろんです！日本には多くの魅力がありますので、いくつかのポイントを紹介します。\n",
      "\n",
      "1. **自然の美しさ**:\n",
      "   - 日本には四季があり、それぞれに美しい自然があります。春の桜、夏の緑、秋の紅葉、冬の雪景色が楽しめます。特に、富士山や山々、海岸線などの景色は圧巻です。\n",
      "\n",
      "2.\n",
      "--------------------\n",
      "もちろんです！日本には多くの魅力がありますが、いくつかの主要な点を紹介します。\n",
      "\n",
      "### 1. 豊かな文化と歴史\n",
      "日本は、古代から続く歴史があり、伝統文化が根付いています。お祭りや伝統的な舞踊、茶道、和の文化が魅力です。古都「京都」や「奈良」には、歴史的な寺や\n"
     ]
    }
   ],
   "source": [
    "# 出力の多様性\n",
    "message = \"日本の魅力を紹介して！\"\n",
    "\n",
    "# APIへリクエスト\n",
    "response = client.chat.completions.create(\n",
    "    model=MODEL_NAME,\n",
    "    messages=[\n",
    "        {\"role\": \"user\", \"content\": message},\n",
    "    ],\n",
    "    presence_penalty=-2.0,\n",
    "    n = 3, # 3回答を得る\n",
    "    max_completion_tokens = 100 # 出力トークン長を制限\n",
    ")\n",
    "\n",
    "# 結果を表示（複数回答を比較）\n",
    "for choice in response.choices:\n",
    "    print(\"-\" * 20)\n",
    "    print(choice.message.content.strip())"
   ]
  },
  {
   "cell_type": "code",
   "execution_count": 9,
   "id": "b965d982",
   "metadata": {},
   "outputs": [
    {
     "name": "stdout",
     "output_type": "stream",
     "text": [
      "tokens_count=2\n",
      "tokens=[95839, 3393]\n"
     ]
    }
   ],
   "source": [
    "import tiktoken\n",
    "from tiktoken.core import Encoding\n",
    "\n",
    "# OpenAI APIの特定のモデルに対応するトークナイザーを取得\n",
    "encoding: Encoding = tiktoken.encoding_for_model(MODEL_NAME) # o200k_base\n",
    "\n",
    "# テキストをトークンIDのリストに変換\n",
    "tokens = encoding.encode(\"こんにちは！\")\n",
    "tokens_count = len(tokens)\n",
    "\n",
    "# トークンの長さとトークンIDを表示\n",
    "print(f\"{tokens_count=}\")\n",
    "print(f\"{tokens=}\")"
   ]
  },
  {
   "cell_type": "code",
   "execution_count": 10,
   "id": "dba6e3e1",
   "metadata": {},
   "outputs": [
    {
     "name": "stdout",
     "output_type": "stream",
     "text": [
      "--------------------\n",
      "B:こんにちは！Aさん、元気ですか？\n",
      "--------------------\n",
      "B:こんにちは！ Aさん、元気ですか？\n",
      "--------------------\n",
      "B:こんにちは！Aさん、元気でしたか？\n"
     ]
    }
   ],
   "source": [
    "# トークンの選択度合い\n",
    "message = \"\"\"\n",
    "AさんとBさんで会話してください。\n",
    "A:あ、Bさんだ。\n",
    "B:\n",
    "\"\"\"\n",
    "\n",
    "# APIへリクエスト\n",
    "response = client.chat.completions.create(\n",
    "    model=MODEL_NAME,\n",
    "    messages=[\n",
    "        {\"role\": \"user\", \"content\": message},\n",
    "    ],\n",
    "    max_tokens=100,\n",
    "    n=3,\n",
    "    logit_bias = {95839:8, 3393:8}\n",
    ")\n",
    "\n",
    "# 結果を表示\n",
    "for choice in response.choices:\n",
    "    print(\"-\" * 20)\n",
    "    print(choice.message.content.strip())"
   ]
  },
  {
   "cell_type": "code",
   "execution_count": 11,
   "id": "6686b6c1",
   "metadata": {},
   "outputs": [
    {
     "name": "stdout",
     "output_type": "stream",
     "text": [
      "言語モデルを使用する際には、いくつかの重要なポイントがあります。以下にいくつか挙げてみます。\n",
      "\n",
      "1. **目的の明確化**: 言語モデルを使う目的を明確にすることが重要です。例えば、文章生成、翻訳、要約、質問応答など、用途によって適切なモデルや設定が異なります。\n",
      "\n",
      "2. **入力データの品質**: 入力するテキストの質は結果に大きく影響します。具体的で明確な質問や指示を与えることで、より良い結果を得られます。\n",
      "\n",
      "3. **コンテキストの提供**: 言語モデルはコンテキストに敏感です。関連する情報や具体的な背景を提供することで、より正確で適切な応答が得られます。\n",
      "\n",
      "4. **トークン制限の理解**: 多くのモデルにはトークン数の制限があります。長大なテキストを扱う際には、その制限に注意し、必要に応じてテキストを短縮したり分割する必要があります。\n",
      "\n",
      "5. **反復と調整**: 一度の試行で満足できる結果が得られないことが多いです。結果を見ながら質問の仕方を変えたり、タスクの設定を調整したりすることで、改善が見込めます。\n",
      "\n",
      "6. **倫理的考慮**: 言語モデルの使用にあたっては、倫理的な観点も考慮する必要があります。特に、偽情報の拡散やプライバシーの侵害に対して注意を払うことが重要です。\n",
      "\n",
      "7. **限界の理解**: 言語モデルには限界があります。最新の情報や詳細な専門知識が必要な場合は、モデルの応答を鵜呑みにせず、追加のリサーチを行うことが推奨されます。\n",
      "\n",
      "8. **フィードバックの活用**: 言語モデルが生成した出力に対してフィードバックを行い、必要に応じて修正や再生成を行うことが重要です。\n",
      "\n",
      "これらのポイントを考慮することで、言語モデルをより効果的に活用することができます。"
     ]
    }
   ],
   "source": [
    "# メッセージの設定\n",
    "message = \"言語モデルを使う上でのポイントは\"\n",
    "\n",
    "# APIへリクエスト\n",
    "stream = client.chat.completions.create(\n",
    "    model=MODEL_NAME,\n",
    "    messages=[\n",
    "        {\"role\": \"user\", \"content\": message},\n",
    "    ],\n",
    "    stream=True,\n",
    ")\n",
    "\n",
    "for chunk in stream:\n",
    "    if chunk.choices:\n",
    "        if chunk.choices[0].delta.content is not None:\n",
    "            print(chunk.choices[0].delta.content, end=\"\")"
   ]
  }
 ],
 "metadata": {
  "kernelspec": {
   "display_name": ".venv",
   "language": "python",
   "name": "python3"
  },
  "language_info": {
   "codemirror_mode": {
    "name": "ipython",
    "version": 3
   },
   "file_extension": ".py",
   "mimetype": "text/x-python",
   "name": "python",
   "nbconvert_exporter": "python",
   "pygments_lexer": "ipython3",
   "version": "3.12.7"
  }
 },
 "nbformat": 4,
 "nbformat_minor": 5
}
