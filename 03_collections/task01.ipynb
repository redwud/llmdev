{
 "cells": [
  {
   "cell_type": "code",
   "execution_count": 13,
   "id": "5b35411b",
   "metadata": {},
   "outputs": [],
   "source": [
    "def show_grade_info( grades ):\n",
    "    ave = sum(grades) / len(grades)\n",
    "    above_ave = sum(1 for g in grades if float(g) > ave)\n",
    "    \n",
    "    print( f\"平均点: {ave:.1f}\")\n",
    "    print( f\"最高点: {max(grades)}\")\n",
    "    print( f\"最低点: {min(grades)}\")\n",
    "    print( f\"平均以上の学生数: {above_ave}\")\n",
    "\n"
   ]
  },
  {
   "cell_type": "code",
   "execution_count": 14,
   "id": "32f39f51",
   "metadata": {},
   "outputs": [
    {
     "name": "stdout",
     "output_type": "stream",
     "text": [
      "平均点: 86.6\n",
      "最高点: 92\n",
      "最低点: 78\n",
      "平均以上の学生数: 3\n"
     ]
    }
   ],
   "source": [
    "grades = [85, 90, 78, 92, 88]\n",
    "show_grade_info( grades )"
   ]
  },
  {
   "cell_type": "code",
   "execution_count": 15,
   "id": "c598f393",
   "metadata": {},
   "outputs": [
    {
     "name": "stdout",
     "output_type": "stream",
     "text": [
      "平均点: 80.0\n",
      "最高点: 90\n",
      "最低点: 70\n",
      "平均以上の学生数: 2\n"
     ]
    }
   ],
   "source": [
    "grades = [70, 75, 80, 85, 90]\n",
    "show_grade_info( grades )"
   ]
  }
 ],
 "metadata": {
  "kernelspec": {
   "display_name": ".venv",
   "language": "python",
   "name": "python3"
  },
  "language_info": {
   "codemirror_mode": {
    "name": "ipython",
    "version": 3
   },
   "file_extension": ".py",
   "mimetype": "text/x-python",
   "name": "python",
   "nbconvert_exporter": "python",
   "pygments_lexer": "ipython3",
   "version": "3.12.7"
  }
 },
 "nbformat": 4,
 "nbformat_minor": 5
}
