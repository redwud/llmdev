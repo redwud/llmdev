{
 "cells": [
  {
   "cell_type": "code",
   "execution_count": 9,
   "id": "6346c50b",
   "metadata": {},
   "outputs": [],
   "source": [
    "def is_valid_username( username :str ) -> bool:\n",
    "    ret = False\n",
    "\n",
    "    while True:\n",
    "        if not (4 < len(username) < 16):\n",
    "            print( \"エラー: ユーザー名は5文字以上15文字以内で入力してください\" )\n",
    "            break \n",
    "        if any( ch.isspace() for ch in username ):\n",
    "            print(\"エラー: ユーザー名に空白を含めることはできません\")\n",
    "            break\n",
    "        if not username.isalnum():\n",
    "            print(\"エラー: ユーザー名は英数字のみ使用できます\")\n",
    "            break\n",
    "        ret = True\n",
    "        break\n",
    "\n",
    "    return ret"
   ]
  },
  {
   "cell_type": "code",
   "execution_count": 13,
   "id": "263f3c88",
   "metadata": {},
   "outputs": [
    {
     "name": "stdout",
     "output_type": "stream",
     "text": [
      "エラー: ユーザー名に空白を含めることはできません\n",
      "不正なユーザー名です\n"
     ]
    }
   ],
   "source": [
    "username = input(\"ユーザー名を入力をしてください: \")\n",
    "\n",
    "if is_valid_username( username ):\n",
    "    print(\"ユーザー名は有効です\")\n",
    "else:\n",
    "    print(\"不正なユーザー名です\")\n"
   ]
  }
 ],
 "metadata": {
  "kernelspec": {
   "display_name": ".venv",
   "language": "python",
   "name": "python3"
  },
  "language_info": {
   "codemirror_mode": {
    "name": "ipython",
    "version": 3
   },
   "file_extension": ".py",
   "mimetype": "text/x-python",
   "name": "python",
   "nbconvert_exporter": "python",
   "pygments_lexer": "ipython3",
   "version": "3.12.7"
  }
 },
 "nbformat": 4,
 "nbformat_minor": 5
}
